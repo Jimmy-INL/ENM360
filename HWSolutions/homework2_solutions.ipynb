{
  "nbformat": 4,
  "nbformat_minor": 0,
  "metadata": {
    "colab": {
      "name": "homework2_solutions.ipynb",
      "provenance": [],
      "collapsed_sections": []
    },
    "kernelspec": {
      "name": "python3",
      "display_name": "Python 3"
    }
  },
  "cells": [
    {
      "cell_type": "markdown",
      "metadata": {
        "id": "Lw4uhWEYPvM4"
      },
      "source": [
        "**Homework 2**\n"
      ]
    },
    {
      "cell_type": "markdown",
      "metadata": {
        "id": "588ssos4P4Zs"
      },
      "source": [
        "**Problem 1**\n",
        "\n",
        "This problem can be solved by Bayes' theorem. The probability of selecting an apricot $P(a)$ is equal: \n",
        "\n",
        "$P(a) = P(a|r)P(r) + P(a|b)P(b) + P(a|g)P(g) = 0.3 \\times 0.2 + 0.5 \\times  0.2 + 0.3 \\times 0.6 = 0.34$\n",
        "\n",
        "Based on Bayes' theorem, the probability of a selected orange coming from the green box $P(g|o)$ is given:\n",
        "\n",
        "$$P(g|o) = \\frac{P(o|g) P(g)}{P(o)}$$ \n",
        "\n",
        "We calculate the probability of an selecting an orange $P(o)$ first as:\n",
        "\n",
        "$P(o) = P(o|r)P(r) + P(o|b)P(b) + P(o|g) P(g) = 0.4 \\times 0.2 + 0.5 \\times 0.2 0.3 \\times 0.6 = 0.36$\n",
        "\n",
        "Therefore we calculate:\n",
        "\n",
        "$$P(g|o) = \\frac{P(o|g) P(g)}{P(o)} = \\frac{0.3 \\times 0.6}{0.36} = 0.5$$"
      ]
    },
    {
      "cell_type": "markdown",
      "metadata": {
        "id": "kQNS6Sz3R5hQ"
      },
      "source": [
        "**Problem 2**\n",
        "\n",
        "a) We know that $p(\\mathbf{y}) = \\mathcal{N}(\\mathbf{y}| \\mathbf{A}\\mathbf{\\mu} + \\mathbf{b}, \\mathbf{L}^{-1} + \\mathbf{A} \\mathbf{\\Lambda}^{-1}\\mathbf{A}^T)$\n",
        "\n",
        "If $y = x +z$ then $p_y(y) = p_x(x) * p_z(z)$, where $*$ denotes the convolution operator. To see why this is true,  draw an $x-z$ coordinate system and sketch a line $x+z=a$.  The probability that $y=x+z= a$ is $p_y(y=a) = \\int p_x(a−t)p_z(a)dt$, since this integrates over all possible ways to obtain the sum of $a$.\n",
        "\n",
        "In this case, when have $y=x+z$, so we evaluate\n",
        "\n",
        "$$p_y(y) =p_x(x)∗p_z(z) = \\int p_x(y−t)p_z(y)dt \\\\\n",
        "         = \\int \\mathcal{N}(y|\\mu_x + t, \\Sigma_x) \\mathcal{N}(y|\\mu_z, \\Sigma_z) dt$$\n",
        "\n",
        "The convolution of two Gaussian distributions provide the result:\n",
        "\n",
        "$$\\mu_y = \\mu_x + \\mu_z, \\quad \\Sigma_y = \\Sigma_z + \\Sigma_x$$\n",
        "\n",
        "which is the result we want to show.\n",
        "\n",
        "( See [explanation of convolution of 2 Gaussians](http://www.lucamartino.altervista.org/2003-003.pdf) )"
      ]
    },
    {
      "cell_type": "markdown",
      "metadata": {
        "id": "bffLbHN2bbjI"
      },
      "source": [
        "b) We are using the definition to show the relation:\n",
        "\n",
        "$E_y[E_x[x|y]]= \\int E_x[x|y] p(y) dy \\\\\n",
        "              =  \\int (\\int x p(x|y) dx ) p(y) dy \\\\\n",
        "              = \\int \\int x p(x|y) p(y) dx dy \\\\\n",
        "              = \\int x p(x) dx = E[x]$\n",
        "\n",
        "For the second relation:\n",
        "\n",
        "$E_y[var_x[x|y]] = \\int var_x [x|y] p(y) dy \\\\\n",
        "                 = \\int (\\int (x - E_x [x|y])^2 p(x|y) dx) p(y) dy \\\\\n",
        "                 = \\int \\int (x^2 - 2x E_x[x|y] + E_x[x|y]^2 ) p(x,y) dx dy \\\\\n",
        "                 = \\int x^2 p(x) dx -  \\int \\int 2x E_x[x|y] p(x,y) dx dy + \\int E_x[x|y]^2 p(y) dy  $\n",
        "\n",
        "We simplify:\n",
        "\n",
        "$\\int \\int 2x E_x[x|y] p(x,y) dx dy = 2 \\int E_x[x|y] ( \\int x  p(x,y) dx)dy \\\\\n",
        "                                    = 2 \\int E_x[x|y] p(y) ( \\int x  p(x|y) dx)dy = \\\\\n",
        "                                    = 2 \\int E_x[x|y]^2 p(y) dy$\n",
        "                                  \n",
        "Therefore:\n",
        "\n",
        "$E_y [var_x [x|y]] = \\int \\int x^2 p(x) dx - \\int \\int E_x[x|y]^2 p(y) dy$ (1)\n",
        "\n",
        "Also,\n",
        "\n",
        "$\n",
        "var_y[E_x[x|y]] = \\int (E_x[x|y] - E_y[E_x[x|y]])^2 p(y) dy\\\\\n",
        "                = \\int (E_x[x|y] - E[x])^2 p(y) dy) \\\\\n",
        "                = \\int E_x [x|y]^2 p(y) dy - 2 E[x] \\int E_x[x|y]p(y) dy + E[x]^2\n",
        "$\n",
        "\n",
        "Then we are dealing with the term:\n",
        "\n",
        "$\n",
        "2 E[x] \\int E_x[x|y]p(y) dy = 2 E[x] E_y[E_x[x|y]] = 2 E[x]^2\n",
        "$\n",
        "\n",
        "Therefore, we obtain:\n",
        "\n",
        "$\n",
        "var_y[E_x[x|y]] = \\int E_x[x|y]^2 p(y) dy - E[x]^2 (2)\n",
        "$\n",
        "\n",
        "By addition of (1) and (2) we get:\n",
        "\n",
        "$\n",
        "E_y[var_x[x|y]]  + var_y[E_x[x|y]] = E[x^2] -E[x]^2 = var[x]\n",
        "$"
      ]
    },
    {
      "cell_type": "markdown",
      "metadata": {
        "id": "D3tIrDYsflZr"
      },
      "source": [
        "c)\n",
        "\n",
        "\\begin{align}\n",
        "E[x]  = & \\int_{-\\infty}^{\\infty} x p(x) dx  \\\\\n",
        "=& \\int_{-\\infty}^{\\infty} [axp_1(x) + (1-\\alpha) xp_2] dx \\\\\n",
        "=& \\alpha \\int_{-\\infty}^{\\infty} xp_1(x) dx+ \\int_{-\\infty}^{\\infty}(1-\\alpha) xp_2 dx \\\\\n",
        "=& a \\mu_1 + (1- \\alpha) \\mu_2\n",
        "\\end{align}\n",
        "Variance\n",
        "\\begin{align}\n",
        "V[x]  = E[x^2] - (E[x])^2 (1) \n",
        "\\end{align}\n",
        "where \n",
        "\\begin{align}\n",
        "E[x^2] = & \\int_{-\\infty}^{\\infty} x^2 p(x) dx\\\\\n",
        "=& \\int_{-\\infty}^{\\infty} \\alpha x^2 p_1(x) + (1-\\alpha) x^2 p_2(x) dx\\\\\n",
        "=& \\alpha \\int_{-\\infty}^{\\infty}  x^2 p_1(x)dx +(1-\\alpha)\\int_{-\\infty}^{\\infty}  x^2 p_2(x) dx\\\\\n",
        "=& \\alpha ( \\mu_1^2 + \\sigma_1^2) + ( 1 - \\alpha)(\\mu_2^2 + \\sigma_2^2)\n",
        "\\end{align}\n",
        "The result can be derived by pluging in the above to equation (1).\n"
      ]
    },
    {
      "cell_type": "markdown",
      "metadata": {
        "id": "0aLhT2Lmg_W6"
      },
      "source": [
        "**Problem 3**\n",
        "\n",
        "$μ_{x_1 | x_2 =−1} = 0 + (−1) · 0.2 · (−1 − 2) = 0.6$\n",
        "\n",
        "and \n",
        "\n",
        "$σ^2_{ x_1 | x_2 =−1} = 0.3 − (−1) · 0.2 · (−1) = 0.1 $\n",
        "\n",
        "Therefore, the conditional Gaussian is calculated to be:\n",
        "\n",
        "$p(x_1 | x_2 = −1) = N (0.6, 0.1) $\n"
      ]
    },
    {
      "cell_type": "code",
      "metadata": {
        "id": "BBn9biNmgcgR",
        "outputId": "4fb9a84c-f2c8-4ba7-9136-1608b20065b3",
        "colab": {
          "base_uri": "https://localhost:8080/",
          "height": 779
        }
      },
      "source": [
        "import numpy as np\n",
        "import matplotlib.pyplot as plt\n",
        "from scipy import stats\n",
        "\n",
        "mean = [0, 2]\n",
        "cov = [[0.3, -1], [-1, 5]]\n",
        "\n",
        "x1, x2 = np.random.multivariate_normal(mean, cov, 5000).T\n",
        "plt.plot(x1, x2, 'bo')\n",
        "plt.show()\n",
        "\n",
        "alpha = 1.15\n",
        "beta = 0.5\n",
        "y1 = alpha * x1\n",
        "y2 = x2 / alpha + beta * (x1**2 + alpha**2)\n",
        "plt.plot(y1, y2, 'ro')\n",
        "plt.show()\n",
        "\n",
        "xmin = y1.min()\n",
        "xmax = y1.max()\n",
        "ymin = y2.min()\n",
        "ymax = y2.max()\n",
        "\n",
        "X, Y = np.mgrid[xmin:xmax:100j, ymin:ymax:100j]\n",
        "positions = np.vstack([X.ravel(), Y.ravel()])\n",
        "values = np.vstack([y1, y2])\n",
        "\n",
        "kernel = stats.gaussian_kde(values)\n",
        "Z = np.reshape(kernel(positions).T, X.shape)\n",
        "\n",
        "fig, ax = plt.subplots()\n",
        "ax.imshow(np.rot90(Z), cmap=plt.cm.gist_earth_r, extent=[xmin, xmax, ymin, ymax])\n",
        "#ax.plot(y1, y2, 'k.', markersize=2)\n",
        "ax.set_xlim([xmin, xmax])\n",
        "ax.set_ylim([ymin, ymax])\n",
        "plt.show()"
      ],
      "execution_count": null,
      "outputs": [
        {
          "output_type": "stream",
          "text": [
            "True\n"
          ],
          "name": "stdout"
        },
        {
          "output_type": "display_data",
          "data": {
            "image/png": "[encoded data removed]",
            "text/plain": [
              "<Figure size 432x288 with 1 Axes>"
            ]
          },
          "metadata": {
            "tags": [],
            "needs_background": "light"
          }
        },
        {
          "output_type": "display_data",
          "data": {
            "image/png": "[encoded data removed]",
            "text/plain": [
              "<Figure size 432x288 with 1 Axes>"
            ]
          },
          "metadata": {
            "tags": [],
            "needs_background": "light"
          }
        },
        {
          "output_type": "display_data",
          "data": {
            "image/png": "[encoded data removed]",
            "text/plain": [
              "<Figure size 432x288 with 1 Axes>"
            ]
          },
          "metadata": {
            "tags": [],
            "needs_background": "light"
          }
        }
      ]
    }
  ]
}